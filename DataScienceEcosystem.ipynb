{
 "cells": [
  {
   "cell_type": "markdown",
   "id": "5ec1b411-e11f-49cc-8e29-5e7a8515d7ae",
   "metadata": {},
   "source": [
    "# Data Science Tools and Ecosystem"
   ]
  },
  {
   "cell_type": "markdown",
   "id": "c360aeb5-70a2-44e0-bf55-d89a55413c40",
   "metadata": {},
   "source": [
    "In this notebook, Data Science Tools and Ecosystem are summarized."
   ]
  },
  {
   "cell_type": "markdown",
   "id": "faea49ed-5d07-4fba-9fd8-3e9eda50e23d",
   "metadata": {},
   "source": [
    "**Objectives:**\n",
    "- Lists popular languages in Data Science\n",
    "- Lists commonly used libraries in Data Science\n",
    "- Perform arithmetic operations\n",
    "- Create single column table\n",
    "- Convert minutes to hours\n",
    "\n",
    "## Author \n",
    "Anusha Achuthan"
   ]
  },
  {
   "cell_type": "markdown",
   "id": "57808558-dddd-400b-82d0-c060192c6db2",
   "metadata": {},
   "source": [
    "Some of the popular languages that Data Scientists use are:\n",
    "1. Python\n",
    "2. R\n",
    "3. Java\n",
    "4. Julia"
   ]
  },
  {
   "cell_type": "markdown",
   "id": "a4e64310-5f4e-4b6c-9987-038172c4342d",
   "metadata": {},
   "source": [
    "Some of the commonly used libraries used by Data Scientists include:\n",
    "1. Pandas\n",
    "2. Scikit-Learn\n",
    "3. Sci-Py\n",
    "4. Matplotlib "
   ]
  },
  {
   "cell_type": "markdown",
   "id": "51881ac7-1ed7-490e-b6f0-267890a1f405",
   "metadata": {},
   "source": [
    "|Data Science Tools|\n",
    "| ------ |\n",
    "|Apache Spark|\n",
    "|RStudio|\n",
    "| KNIME |"
   ]
  },
  {
   "cell_type": "markdown",
   "id": "7b69fe35-7c0d-4553-b6be-78e298354f3d",
   "metadata": {},
   "source": [
    "### Below are a few examples of evaluating arithmetic expressions in Python"
   ]
  },
  {
   "cell_type": "code",
   "execution_count": 2,
   "id": "0eb25afe-5cce-4e84-9ebc-7aa7e41fbf26",
   "metadata": {
    "tags": []
   },
   "outputs": [
    {
     "data": {
      "text/plain": [
       "17"
      ]
     },
     "execution_count": 2,
     "metadata": {},
     "output_type": "execute_result"
    }
   ],
   "source": [
    "# This a simple arithmetic expression to mutiply then add integers\n",
    "(3*4)+5"
   ]
  },
  {
   "cell_type": "code",
   "execution_count": 4,
   "id": "61efe9b2-7cb6-4c21-8c49-db678206c9ae",
   "metadata": {
    "tags": []
   },
   "outputs": [
    {
     "name": "stdout",
     "output_type": "stream",
     "text": [
      "Hour is: 3.3333333333333335\n"
     ]
    }
   ],
   "source": [
    "# This will convert 200 minutes to hours by diving by 60\n",
    "min = 200\n",
    "hour = min/60\n",
    "print(\"Hour is:\", hour)"
   ]
  },
  {
   "cell_type": "code",
   "execution_count": null,
   "id": "d93e88e9-1d02-46cc-9402-ea9bf76fd7a1",
   "metadata": {},
   "outputs": [],
   "source": []
  }
 ],
 "metadata": {
  "kernelspec": {
   "display_name": "Python",
   "language": "python",
   "name": "conda-env-python-py"
  },
  "language_info": {
   "codemirror_mode": {
    "name": "ipython",
    "version": 3
   },
   "file_extension": ".py",
   "mimetype": "text/x-python",
   "name": "python",
   "nbconvert_exporter": "python",
   "pygments_lexer": "ipython3",
   "version": "3.7.12"
  }
 },
 "nbformat": 4,
 "nbformat_minor": 5
}
